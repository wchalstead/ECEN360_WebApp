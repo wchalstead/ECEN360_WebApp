{
 "cells": [
  {
   "cell_type": "code",
   "execution_count": 1,
   "id": "2d5a19e7",
   "metadata": {},
   "outputs": [],
   "source": [
    "from flask import Flask, render_template, request\n",
    "import librosa\n",
    "import numpy as np\n",
    "from sklearn.neighbors import KNeighborsClassifier\n",
    "import numpy as np\n",
    "import pandas as pd\n",
    "import os\n",
    "import librosa\n",
    "import matplotlib.pyplot as plt\n",
    "import pickle"
   ]
  },
  {
   "cell_type": "code",
   "execution_count": null,
   "id": "0e9b8983",
   "metadata": {},
   "outputs": [
    {
     "name": "stdout",
     "output_type": "stream",
     "text": [
      " * Serving Flask app '__main__'\n",
      " * Debug mode: off\n"
     ]
    },
    {
     "name": "stderr",
     "output_type": "stream",
     "text": [
      "WARNING: This is a development server. Do not use it in a production deployment. Use a production WSGI server instead.\n",
      " * Running on http://127.0.0.1:5000\n",
      "Press CTRL+C to quit\n",
      "127.0.0.1 - - [25/Apr/2023 17:44:06] \"GET / HTTP/1.1\" 200 -\n",
      "127.0.0.1 - - [25/Apr/2023 17:44:17] \"POST /predict HTTP/1.1\" 200 -\n",
      "127.0.0.1 - - [25/Apr/2023 17:44:25] \"POST /predict HTTP/1.1\" 200 -\n",
      "127.0.0.1 - - [25/Apr/2023 17:48:22] \"GET / HTTP/1.1\" 200 -\n",
      "127.0.0.1 - - [25/Apr/2023 17:48:29] \"POST /predict HTTP/1.1\" 200 -\n"
     ]
    }
   ],
   "source": [
    "app = Flask(__name__)\n",
    "model = pickle.load(open('melspec_knn.sav', 'rb'))\n",
    "\n",
    "@app.route('/')\n",
    "def upload_file():\n",
    "    return render_template('upload.html')\n",
    "\n",
    "@app.route('/predict', methods=['POST'])\n",
    "def predict():\n",
    "    # get the uploaded file from the request\n",
    "    file = request.files['file']\n",
    "    \n",
    "    # load the audio file using librosa\n",
    "    y, sr = librosa.load(file)\n",
    "    y_new = librosa.util.fix_length(data = y,size = 441000)\n",
    "    \n",
    "    # extract features from the audio file\n",
    "    S = librosa.feature.melspectrogram(y=y_new, sr=sr, n_mels=128, fmax=8000)\n",
    "\n",
    "    # Convert to decibels\n",
    "    S_dB = librosa.power_to_db(S, ref=np.max)\n",
    "    \n",
    "    # make a prediction using the loaded sklearn model\n",
    "    pred = (model.predict(S_dB.reshape(1, -1))[0])\n",
    "    \n",
    "    if pred ==0:\n",
    "        prediction = \"Not Healthy\"\n",
    "    else:\n",
    "        prediction = \"Healthy\"\n",
    "    \n",
    "    # return the prediction to the HTML template\n",
    "    return render_template('upload.html', prediction=prediction)\n",
    "\n",
    "if __name__ == '__main__':\n",
    "    app.run()"
   ]
  },
  {
   "cell_type": "code",
   "execution_count": null,
   "id": "d6b3a1bd",
   "metadata": {},
   "outputs": [],
   "source": [
    " # load the audio file using librosa\n",
    "y, sr = librosa.load('107_2b3_Lr_mc_AKGC417L.wav')\n",
    "y_new = librosa.util.fix_length(data = y,size = 441000)\n",
    "    \n",
    "    # extract features from the audio file\n",
    "S = librosa.feature.melspectrogram(y=y_new, sr=sr, n_mels=128, fmax=8000)\n",
    "\n",
    "    # Convert to decibels\n",
    "S_dB = librosa.power_to_db(S, ref=np.max)\n",
    "    \n",
    "    # make a prediction using the loaded sklearn model\n",
    "prediction = model.predict(S_dB.reshape(1, -1))[0]\n",
    "print(str(prediction))"
   ]
  },
  {
   "cell_type": "code",
   "execution_count": null,
   "id": "fb45149e",
   "metadata": {},
   "outputs": [],
   "source": []
  }
 ],
 "metadata": {
  "kernelspec": {
   "display_name": "Python 3 (ipykernel)",
   "language": "python",
   "name": "python3"
  },
  "language_info": {
   "codemirror_mode": {
    "name": "ipython",
    "version": 3
   },
   "file_extension": ".py",
   "mimetype": "text/x-python",
   "name": "python",
   "nbconvert_exporter": "python",
   "pygments_lexer": "ipython3",
   "version": "3.10.9"
  }
 },
 "nbformat": 4,
 "nbformat_minor": 5
}
